{
 "cells": [
  {
   "cell_type": "code",
   "execution_count": 1,
   "metadata": {},
   "outputs": [],
   "source": [
    "import sys\n",
    "import numpy as np\n",
    "sys.path.append('/home/bram/ANTS/entropy/')"
   ]
  },
  {
   "cell_type": "code",
   "execution_count": 16,
   "metadata": {},
   "outputs": [
    {
     "name": "stdout",
     "output_type": "stream",
     "text": [
      "/home/bram/ANTS/entropy/core/database/sim_00098/maps.npz\n",
      "MAP_t00030\n",
      "MAP_t00075\n",
      "MAP_t00150\n",
      "MAP_t00225\n"
     ]
    }
   ],
   "source": [
    "# load files\n",
    "simnr = 98\n",
    "p = sys.path[-1]+'core/database/sim_{}/maps.npz'.format(str(simnr).zfill(5))\n",
    "print(p)\n",
    "loaded = np.load(p)\n",
    "for key in loaded:\n",
    "    exec(f\"{key}=loaded['{key}']\")\n",
    "    print(key)\n",
    "# MAP0 = loaded['MAP_t00030']"
   ]
  },
  {
   "cell_type": "code",
   "execution_count": 18,
   "metadata": {},
   "outputs": [
    {
     "name": "stdout",
     "output_type": "stream",
     "text": [
      "Map min = 0.051892813998375836 || max = 0.26838742649208996 || sum = 50228.955899447305 || size = 501501\n"
     ]
    }
   ],
   "source": [
    "Z = MAP_t00225\n",
    "print(\"Map min = {} || max = {} || sum = {} || size = {}\".format(Z.min(),Z.max(),\n",
    "                                                                 Z.sum(),Z.size))"
   ]
  }
 ],
 "metadata": {
  "kernelspec": {
   "display_name": "Python 3",
   "language": "python",
   "name": "python3"
  },
  "language_info": {
   "codemirror_mode": {
    "name": "ipython",
    "version": 3
   },
   "file_extension": ".py",
   "mimetype": "text/x-python",
   "name": "python",
   "nbconvert_exporter": "python",
   "pygments_lexer": "ipython3",
   "version": "3.6.5"
  }
 },
 "nbformat": 4,
 "nbformat_minor": 2
}
