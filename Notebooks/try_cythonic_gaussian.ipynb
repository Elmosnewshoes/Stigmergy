{
 "cells": [
  {
   "cell_type": "code",
   "execution_count": 1,
   "metadata": {},
   "outputs": [],
   "source": [
    "%load_ext Cython\n",
    "import sys\n",
    "sys.path[0] = ('/home/bram/ANTS/')"
   ]
  },
  {
   "cell_type": "code",
   "execution_count": 5,
   "metadata": {},
   "outputs": [
    {
     "name": "stderr",
     "output_type": "stream",
     "text": [
      "\n",
      "Error compiling Cython file:\n",
      "------------------------------------------------------------\n",
      "...\n",
      "cimport numpy as np\n",
      "import numpy as np\n",
      "\n",
      "@cython.cdivision(True)\n",
      "\n",
      "map = MeshMap(np.array([100,100],dtype = np.float_),0.25)\n",
      "^\n",
      "------------------------------------------------------------\n",
      "\n",
      "/home/bram/.cache/ipython/cython/_cython_magic_80649aa89f5d28584b57139aab9215b3.pyx:8:0: Decorators can only be followed by functions or classes\n"
     ]
    },
    {
     "ename": "TypeError",
     "evalue": "object of type 'NoneType' has no len()",
     "output_type": "error",
     "traceback": [
      "\u001b[0;31m---------------------------------------------------------------------------\u001b[0m",
      "\u001b[0;31mTypeError\u001b[0m                                 Traceback (most recent call last)",
      "\u001b[0;32m<ipython-input-5-91eac9780f1c>\u001b[0m in \u001b[0;36m<module>\u001b[0;34m\u001b[0m\n\u001b[0;32m----> 1\u001b[0;31m \u001b[0mget_ipython\u001b[0m\u001b[0;34m(\u001b[0m\u001b[0;34m)\u001b[0m\u001b[0;34m.\u001b[0m\u001b[0mrun_cell_magic\u001b[0m\u001b[0;34m(\u001b[0m\u001b[0;34m'cython'\u001b[0m\u001b[0;34m,\u001b[0m \u001b[0;34m''\u001b[0m\u001b[0;34m,\u001b[0m \u001b[0;34m'from cythonic.core.map cimport MeshMap, GaussMap\\nfrom libc.math cimport sqrt as csqrt, M_PI\\ncimport numpy as np\\nimport numpy as np\\n\\n@cython.cdivision(True)\\n\\nmap = MeshMap(np.array([100,100],dtype = np.float_),0.25)\\ncdef double sigmax=1.0, sigmay=1.0, mux=0.0, muy=0.0, sigmaxy=0.0\\n# cdef double[:,::1] biv_normal(double [:,::1] X, double[:,::1] Y):\\ncdef np.ndarray[np.npy_float64, ndim=2] biv_normal(double[:,::1] X, double[:,::1] Y):\\n    cdef double rho = sigmaxy/(sigmax*sigmay)\\n    cdef double[:,::] nom = -(np.array(X)-mux)**2/sigmax**2 - (np.array(Y)-muy)**2/sigmay**2 + 2*rho*(np.array(X)-mux)*(np.array(Y)-muy)/(sigmax*sigmay)\\n    cdef double denom = 2*M_PI*sigmax*sigmay*csqrt(1-rho**2)\\n    return np.exp(np.array(nom)/(2*(1-rho**2))) / denom\\n\\ndef pybiv_normal(X,Y):\\n    Xmu = X-mux\\n    Ymu = Y-muy\\n\\n    rho = sigmaxy/(sigmax*sigmay)\\n    z = Xmu**2/sigmax**2 + Ymu**2/sigmay**2 - 2*rho*Xmu*Ymu/(sigmax*sigmay)\\n    denom = 2*np.pi*sigmax*sigmay*np.sqrt(1-rho**2)\\n    return np.exp(-z/(2*(1-rho**2))) / denom\\n\\nfrom time import time\\ncdef double tic, toc\\ncdef double[:,::1] x\\ncdef int i, N = 100\\ntic = time()\\n\\nfor i in range(N):\\n    x = np.array(biv_normal(map.mesh_x,map.mesh_y))\\ntoc = time()\\nprint(\"c-avg: {} msec\".format((toc-tic)*1000))\\ntic = time()\\n\\nfor i in range(N):\\n    y = np.array(pybiv_normal(np.array(map.mesh_x),np.array(map.mesh_y)))\\ntoc = time()\\nprint(\"py-avg: {} msec\".format((toc-tic)*1000))\\n\\ntic=time()\\nG = GaussMap(R=50., resolution= 0.25, covariance = 1.)\\nfor i in range(N):\\n    z = G.bivariate_normal()\\ntoc = time()\\nprint(\"mesh-avg: {} msec\".format((toc-tic)*1000))\\n\\n# Xmu = X-mux\\n# Ymu = Y-muy\\n\\n# rho = sigmaxy/(sigmax*sigmay)\\n# z = Xmu**2/sigmax**2 + Ymu**2/sigmay**2 - 2*rho*Xmu*Ymu/(sigmax*sigmay)\\n# denom = 2*np.pi*sigmax*sigmay*np.sqrt(1-rho**2)\\n# return np.exp(-z/(2*(1-rho**2))) / denom\\n\\n'\u001b[0m\u001b[0;34m)\u001b[0m\u001b[0;34m\u001b[0m\u001b[0;34m\u001b[0m\u001b[0m\n\u001b[0m",
      "\u001b[0;32m~/PythonEnvs/Ants/lib/python3.6/site-packages/IPython/core/interactiveshell.py\u001b[0m in \u001b[0;36mrun_cell_magic\u001b[0;34m(self, magic_name, line, cell)\u001b[0m\n\u001b[1;32m   2319\u001b[0m             \u001b[0mmagic_arg_s\u001b[0m \u001b[0;34m=\u001b[0m \u001b[0mself\u001b[0m\u001b[0;34m.\u001b[0m\u001b[0mvar_expand\u001b[0m\u001b[0;34m(\u001b[0m\u001b[0mline\u001b[0m\u001b[0;34m,\u001b[0m \u001b[0mstack_depth\u001b[0m\u001b[0;34m)\u001b[0m\u001b[0;34m\u001b[0m\u001b[0;34m\u001b[0m\u001b[0m\n\u001b[1;32m   2320\u001b[0m             \u001b[0;32mwith\u001b[0m \u001b[0mself\u001b[0m\u001b[0;34m.\u001b[0m\u001b[0mbuiltin_trap\u001b[0m\u001b[0;34m:\u001b[0m\u001b[0;34m\u001b[0m\u001b[0;34m\u001b[0m\u001b[0m\n\u001b[0;32m-> 2321\u001b[0;31m                 \u001b[0mresult\u001b[0m \u001b[0;34m=\u001b[0m \u001b[0mfn\u001b[0m\u001b[0;34m(\u001b[0m\u001b[0mmagic_arg_s\u001b[0m\u001b[0;34m,\u001b[0m \u001b[0mcell\u001b[0m\u001b[0;34m)\u001b[0m\u001b[0;34m\u001b[0m\u001b[0;34m\u001b[0m\u001b[0m\n\u001b[0m\u001b[1;32m   2322\u001b[0m             \u001b[0;32mreturn\u001b[0m \u001b[0mresult\u001b[0m\u001b[0;34m\u001b[0m\u001b[0;34m\u001b[0m\u001b[0m\n\u001b[1;32m   2323\u001b[0m \u001b[0;34m\u001b[0m\u001b[0m\n",
      "\u001b[0;32m<decorator-gen-127>\u001b[0m in \u001b[0;36mcython\u001b[0;34m(self, line, cell)\u001b[0m\n",
      "\u001b[0;32m~/PythonEnvs/Ants/lib/python3.6/site-packages/IPython/core/magic.py\u001b[0m in \u001b[0;36m<lambda>\u001b[0;34m(f, *a, **k)\u001b[0m\n\u001b[1;32m    185\u001b[0m     \u001b[0;31m# but it's overkill for just that one bit of state.\u001b[0m\u001b[0;34m\u001b[0m\u001b[0;34m\u001b[0m\u001b[0;34m\u001b[0m\u001b[0m\n\u001b[1;32m    186\u001b[0m     \u001b[0;32mdef\u001b[0m \u001b[0mmagic_deco\u001b[0m\u001b[0;34m(\u001b[0m\u001b[0marg\u001b[0m\u001b[0;34m)\u001b[0m\u001b[0;34m:\u001b[0m\u001b[0;34m\u001b[0m\u001b[0;34m\u001b[0m\u001b[0m\n\u001b[0;32m--> 187\u001b[0;31m         \u001b[0mcall\u001b[0m \u001b[0;34m=\u001b[0m \u001b[0;32mlambda\u001b[0m \u001b[0mf\u001b[0m\u001b[0;34m,\u001b[0m \u001b[0;34m*\u001b[0m\u001b[0ma\u001b[0m\u001b[0;34m,\u001b[0m \u001b[0;34m**\u001b[0m\u001b[0mk\u001b[0m\u001b[0;34m:\u001b[0m \u001b[0mf\u001b[0m\u001b[0;34m(\u001b[0m\u001b[0;34m*\u001b[0m\u001b[0ma\u001b[0m\u001b[0;34m,\u001b[0m \u001b[0;34m**\u001b[0m\u001b[0mk\u001b[0m\u001b[0;34m)\u001b[0m\u001b[0;34m\u001b[0m\u001b[0;34m\u001b[0m\u001b[0m\n\u001b[0m\u001b[1;32m    188\u001b[0m \u001b[0;34m\u001b[0m\u001b[0m\n\u001b[1;32m    189\u001b[0m         \u001b[0;32mif\u001b[0m \u001b[0mcallable\u001b[0m\u001b[0;34m(\u001b[0m\u001b[0marg\u001b[0m\u001b[0;34m)\u001b[0m\u001b[0;34m:\u001b[0m\u001b[0;34m\u001b[0m\u001b[0;34m\u001b[0m\u001b[0m\n",
      "\u001b[0;32m~/PythonEnvs/Ants/lib/python3.6/site-packages/Cython/Build/IpythonMagic.py\u001b[0m in \u001b[0;36mcython\u001b[0;34m(self, line, cell)\u001b[0m\n\u001b[1;32m    319\u001b[0m         \u001b[0;32mif\u001b[0m \u001b[0mneed_cythonize\u001b[0m\u001b[0;34m:\u001b[0m\u001b[0;34m\u001b[0m\u001b[0;34m\u001b[0m\u001b[0m\n\u001b[1;32m    320\u001b[0m             \u001b[0mextensions\u001b[0m \u001b[0;34m=\u001b[0m \u001b[0mself\u001b[0m\u001b[0;34m.\u001b[0m\u001b[0m_cythonize\u001b[0m\u001b[0;34m(\u001b[0m\u001b[0mmodule_name\u001b[0m\u001b[0;34m,\u001b[0m \u001b[0mcode\u001b[0m\u001b[0;34m,\u001b[0m \u001b[0mlib_dir\u001b[0m\u001b[0;34m,\u001b[0m \u001b[0margs\u001b[0m\u001b[0;34m,\u001b[0m \u001b[0mquiet\u001b[0m\u001b[0;34m=\u001b[0m\u001b[0margs\u001b[0m\u001b[0;34m.\u001b[0m\u001b[0mquiet\u001b[0m\u001b[0;34m)\u001b[0m\u001b[0;34m\u001b[0m\u001b[0;34m\u001b[0m\u001b[0m\n\u001b[0;32m--> 321\u001b[0;31m             \u001b[0;32massert\u001b[0m \u001b[0mlen\u001b[0m\u001b[0;34m(\u001b[0m\u001b[0mextensions\u001b[0m\u001b[0;34m)\u001b[0m \u001b[0;34m==\u001b[0m \u001b[0;36m1\u001b[0m\u001b[0;34m\u001b[0m\u001b[0;34m\u001b[0m\u001b[0m\n\u001b[0m\u001b[1;32m    322\u001b[0m             \u001b[0mextension\u001b[0m \u001b[0;34m=\u001b[0m \u001b[0mextensions\u001b[0m\u001b[0;34m[\u001b[0m\u001b[0;36m0\u001b[0m\u001b[0;34m]\u001b[0m\u001b[0;34m\u001b[0m\u001b[0;34m\u001b[0m\u001b[0m\n\u001b[1;32m    323\u001b[0m             \u001b[0mself\u001b[0m\u001b[0;34m.\u001b[0m\u001b[0m_code_cache\u001b[0m\u001b[0;34m[\u001b[0m\u001b[0mkey\u001b[0m\u001b[0;34m]\u001b[0m \u001b[0;34m=\u001b[0m \u001b[0mmodule_name\u001b[0m\u001b[0;34m\u001b[0m\u001b[0;34m\u001b[0m\u001b[0m\n",
      "\u001b[0;31mTypeError\u001b[0m: object of type 'NoneType' has no len()"
     ]
    }
   ],
   "source": [
    "%%cython\n",
    "from cythonic.core.map cimport MeshMap, GaussMap\n",
    "from libc.math cimport sqrt as csqrt, M_PI\n",
    "cimport numpy as np\n",
    "import numpy as np\n",
    "\n",
    "map = MeshMap(np.array([100,100],dtype = np.float_),0.25)\n",
    "cdef double sigmax=1.0, sigmay=1.0, mux=0.0, muy=0.0, sigmaxy=0.0\n",
    "# cdef double[:,::1] biv_normal(double [:,::1] X, double[:,::1] Y):\n",
    "cdef np.ndarray[np.npy_float64, ndim=2] biv_normal(double[:,::1] X, double[:,::1] Y):\n",
    "    cdef double rho = sigmaxy/(sigmax*sigmay)\n",
    "    cdef double[:,::] nom = -(np.array(X)-mux)**2/sigmax**2 - (np.array(Y)-muy)**2/sigmay**2 + 2*rho*(np.array(X)-mux)*(np.array(Y)-muy)/(sigmax*sigmay)\n",
    "    cdef double denom = 2*M_PI*sigmax*sigmay*csqrt(1-rho**2)\n",
    "    return np.exp(np.array(nom)/(2*(1-rho**2))) / denom\n",
    "\n",
    "def pybiv_normal(X,Y):\n",
    "    Xmu = X-mux\n",
    "    Ymu = Y-muy\n",
    "\n",
    "    rho = sigmaxy/(sigmax*sigmay)\n",
    "    z = Xmu**2/sigmax**2 + Ymu**2/sigmay**2 - 2*rho*Xmu*Ymu/(sigmax*sigmay)\n",
    "    denom = 2*np.pi*sigmax*sigmay*np.sqrt(1-rho**2)\n",
    "    return np.exp(-z/(2*(1-rho**2))) / denom\n",
    "\n",
    "from time import time\n",
    "cdef double tic, toc\n",
    "cdef double[:,::1] x\n",
    "cdef int i, N = 100\n",
    "tic = time()\n",
    "\n",
    "for i in range(N):\n",
    "    x = np.array(biv_normal(map.mesh_x,map.mesh_y))\n",
    "toc = time()\n",
    "print(\"c-avg: {} msec\".format((toc-tic)*1000))\n",
    "tic = time()\n",
    "\n",
    "for i in range(N):\n",
    "    y = np.array(pybiv_normal(np.array(map.mesh_x),np.array(map.mesh_y)))\n",
    "toc = time()\n",
    "print(\"py-avg: {} msec\".format((toc-tic)*1000))\n",
    "\n",
    "tic=time()\n",
    "G = GaussMap(R=50., resolution= 0.25, covariance = 1.)\n",
    "for i in range(N):\n",
    "    z = G.bivariate_normal()\n",
    "toc = time()\n",
    "print(\"mesh-avg: {} msec\".format((toc-tic)*1000))\n",
    "\n",
    "# Xmu = X-mux\n",
    "# Ymu = Y-muy\n",
    "\n",
    "# rho = sigmaxy/(sigmax*sigmay)\n",
    "# z = Xmu**2/sigmax**2 + Ymu**2/sigmay**2 - 2*rho*Xmu*Ymu/(sigmax*sigmay)\n",
    "# denom = 2*np.pi*sigmax*sigmay*np.sqrt(1-rho**2)\n",
    "# return np.exp(-z/(2*(1-rho**2))) / denom\n",
    "\n"
   ]
  }
 ],
 "metadata": {
  "kernelspec": {
   "display_name": "Python 3",
   "language": "python",
   "name": "python3"
  },
  "language_info": {
   "codemirror_mode": {
    "name": "ipython",
    "version": 3
   },
   "file_extension": ".py",
   "mimetype": "text/x-python",
   "name": "python",
   "nbconvert_exporter": "python",
   "pygments_lexer": "ipython3",
   "version": "3.6.7"
  }
 },
 "nbformat": 4,
 "nbformat_minor": 2
}
