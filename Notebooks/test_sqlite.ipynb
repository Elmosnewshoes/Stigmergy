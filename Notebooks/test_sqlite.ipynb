{
 "cells": [
  {
   "cell_type": "code",
   "execution_count": 11,
   "metadata": {},
   "outputs": [],
   "source": [
    "import sqlite3\n",
    "path = \"../entropy/core/database/\"\n",
    "dbname = \"stigmergy_database.db\"\n",
    "db = sqlite3.connect(path+dbname)"
   ]
  },
  {
   "cell_type": "code",
   "execution_count": null,
   "metadata": {},
   "outputs": [],
   "source": [
    "cursor = db.cursor()"
   ]
  },
  {
   "cell_type": "code",
   "execution_count": 18,
   "metadata": {},
   "outputs": [
    {
     "name": "stdout",
     "output_type": "stream",
     "text": [
      "(1, 80, '[1000,1000]', 1, 1.0, '[250,500]', 80, '[750,500]', 80, 1.0, 12.0, 'instant', 'nest', 'linear', 15, 30, 10)\n",
      "(2, 80, '[1000,1000]', 1, 1.0, '[250,500]', 80, '[750,500]', 80, 1.0, 12.0, 'instant', 'nest', 'linear', 15, 30, 10)\n"
     ]
    }
   ],
   "source": [
    "cursor.execute(\"Select * from sims\")\n",
    "# id = cursor.lastrowid\n",
    "all_rows = cursor.fetchall()\n",
    "for row in all_rows:\n",
    "    print(row)"
   ]
  },
  {
   "cell_type": "code",
   "execution_count": 19,
   "metadata": {},
   "outputs": [
    {
     "data": {
      "text/plain": [
       "<sqlite3.Cursor at 0x7f5494f82650>"
      ]
     },
     "execution_count": 19,
     "metadata": {},
     "output_type": "execute_result"
    }
   ],
   "source": [
    "cursor = db.cursor()\n",
    "qry = \"\"\"INSERT INTO sims(n_agents,domain_limits,pitch,dt,\n",
    "nest_location,nest_radius,food_location,food_radius,\n",
    "start_concentration,pheromone_variance,\n",
    "deploy_method,deploy_location,\n",
    "sens_function, ant_start_speed, ant_antenna_offset,ant_l) \n",
    "VALUES (80,'[1000,1000]',1,1,\n",
    "'[250,500]',80,'[750,500]',80,\n",
    "1.0,12.0,\n",
    "'instant', 'nest',\n",
    "'linear', 15, 30, 10)\"\"\"\n",
    "cursor.execute(qry)"
   ]
  },
  {
   "cell_type": "code",
   "execution_count": 20,
   "metadata": {},
   "outputs": [
    {
     "name": "stdout",
     "output_type": "stream",
     "text": [
      "3\n"
     ]
    }
   ],
   "source": [
    "id = cursor.lastrowid\n",
    "print(id)"
   ]
  },
  {
   "cell_type": "code",
   "execution_count": 21,
   "metadata": {},
   "outputs": [],
   "source": [
    "db.commit()"
   ]
  },
  {
   "cell_type": "code",
   "execution_count": 22,
   "metadata": {},
   "outputs": [],
   "source": [
    "db.close()"
   ]
  }
 ],
 "metadata": {
  "kernelspec": {
   "display_name": "Python 3",
   "language": "python",
   "name": "python3"
  },
  "language_info": {
   "codemirror_mode": {
    "name": "ipython",
    "version": 3
   },
   "file_extension": ".py",
   "mimetype": "text/x-python",
   "name": "python",
   "nbconvert_exporter": "python",
   "pygments_lexer": "ipython3",
   "version": "3.6.5"
  }
 },
 "nbformat": 4,
 "nbformat_minor": 2
}
