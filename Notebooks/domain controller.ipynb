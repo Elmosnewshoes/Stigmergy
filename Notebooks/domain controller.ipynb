{
 "cells": [
  {
   "cell_type": "code",
   "execution_count": 1,
   "metadata": {},
   "outputs": [
    {
     "name": "stdout",
     "output_type": "stream",
     "text": [
      "\n",
      "/usr/lib/python36.zip\n",
      "/usr/lib/python3.6\n",
      "/usr/lib/python3.6/lib-dynload\n",
      "/home/bram/PythonEnvs/Ants/lib/python3.6/site-packages\n",
      "/home/bram/PythonEnvs/Ants/lib/python3.6/site-packages/IPython/extensions\n",
      "/home/bram/.ipython\n",
      "/home/bram/ANTS\n",
      "/home/bram/ANTS/entropy\n"
     ]
    }
   ],
   "source": [
    "%load_ext cython\n",
    "import sys\n",
    "sys.path.append('/home/bram/ANTS')\n",
    "sys.path.append('/home/bram/ANTS/entropy')\n",
    "for p in sys.path:\n",
    "    print(p)"
   ]
  },
  {
   "cell_type": "code",
   "execution_count": 4,
   "metadata": {},
   "outputs": [
    {
     "name": "stdout",
     "output_type": "stream",
     "text": [
      "init\n",
      "[0. 0.]\n",
      "1543491889.042821\n",
      "Evaporate took 105.94269037246704 msec\n",
      "C-Evaporate took 14.214789867401123 msec \n",
      "4004001.0\n",
      "C is 7.4529902559745995 times faster\n",
      "--done--\n"
     ]
    }
   ],
   "source": [
    "%%cython\n",
    "from cythonic.core.queen cimport queen\n",
    "from cythonic.core.domain cimport domain\n",
    "from cythonic.core.ant cimport Ant as ant\n",
    "from entropy.core.visualization import StigmergyPlot, Plotter\n",
    "import numpy as np\n",
    "cimport numpy as cnp\n",
    "cimport cython\n",
    "\n",
    "cdef double pitch = .5\n",
    "cdef double[2] limits = np.array([1000,1000],dtype=np.float_)\n",
    "cdef double[2] size = limits, nest = np.array([25.,50.]), food = np.array([75.,50.])\n",
    "cdef double R=5.\n",
    "dom_settings = {'size':size, 'pitch': pitch, 'nest_loc': nest, 'food_loc':food,\n",
    "                'nest_rad':R, 'food_rad': R}\n",
    "ant_dict = {'speed' : 10, 'gain' : 2, 'l' : 5, 'sens_offset' : 45,\n",
    "          'limits' :np.array(limits),'q' : 1.5, 'return_factor' :1,\n",
    "          'drop_fun' : 'exp_decay', 'drop_beta' : .5, 'rng_gamma':2}\n",
    "\n",
    "@cython.cdivision(True)\n",
    "@cython.wraparound(False)\n",
    "@cython.boundscheck(False)\n",
    "@cython.nonecheck(False)\n",
    "cdef class sim_controller():\n",
    "    cdef domain dom\n",
    "    cdef queen controller\n",
    "    cdef ant solo\n",
    "    \n",
    "    def __cinit__(self, dom_dict, ant_dict={}):\n",
    "        print('init')\n",
    "        self.dom = domain(**dom_dict)\n",
    "        self.dom.set_target_pheromone(self.dom.Map.sum())\n",
    "        self.solo = ant(id =1, **ant_dict)\n",
    "        \n",
    "    cpdef cnp.ndarray[ndim = 1,dtype=cnp.npy_float64] get_pos(self):\n",
    "        return np.array([self.solo._pos.x,self.solo._pos.y],dtype = np.float_)\n",
    "    \n",
    "    cdef void evaporate(self):\n",
    "        self.dom.pyvaporate()\n",
    "        \n",
    "    cdef void cevaporate(self):\n",
    "        self.dom.cvaporate()\n",
    "        \n",
    "cdef sim_controller sim = sim_controller(dom_dict = dom_settings, ant_dict = ant_dict)\n",
    "print(sim.get_pos())\n",
    "\n",
    "from time import time\n",
    "\n",
    "\n",
    "\n",
    "\n",
    "sim.solo.init_positions(np.array([500,500],dtype=np.float_))\n",
    "sim.dom.init_gaussian(significancy=1e3, sigma=3)\n",
    "# vis = Plotter(sim.dom.Map, shown='stigmergy')\n",
    "\n",
    "print(time())\n",
    "cdef double toc,tic, t_npy,t_c\n",
    "cdef unsigned int i,N =20\n",
    "tic = time()\n",
    "for i in range(N):\n",
    "    sim.evaporate()\n",
    "toc = time()\n",
    "t_npy = toc-tic\n",
    "print(f\"Evaporate took {t_npy*1000/N} msec\")\n",
    "tic = time()\n",
    "for i in range(N):\n",
    "    sim.cevaporate()\n",
    "toc = time()\n",
    "t_c=toc-tic\n",
    "print(f\"C-Evaporate took {t_c*1000/N} msec \")\n",
    "print(np.array(sim.dom.Map.map).sum())\n",
    "print(f\"C is {t_npy/t_c} times faster\")\n",
    "print('--done--')"
   ]
  },
  {
   "cell_type": "code",
   "execution_count": null,
   "metadata": {},
   "outputs": [],
   "source": []
  },
  {
   "cell_type": "code",
   "execution_count": null,
   "metadata": {},
   "outputs": [],
   "source": []
  }
 ],
 "metadata": {
  "kernelspec": {
   "display_name": "Python 3",
   "language": "python",
   "name": "python3"
  },
  "language_info": {
   "codemirror_mode": {
    "name": "ipython",
    "version": 3
   },
   "file_extension": ".py",
   "mimetype": "text/x-python",
   "name": "python",
   "nbconvert_exporter": "python",
   "pygments_lexer": "ipython3",
   "version": "3.6.7"
  }
 },
 "nbformat": 4,
 "nbformat_minor": 2
}
