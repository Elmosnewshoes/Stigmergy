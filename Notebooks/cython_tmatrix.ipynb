{
 "cells": [
  {
   "cell_type": "code",
   "execution_count": 2,
   "metadata": {},
   "outputs": [],
   "source": [
    "%load_ext Cython"
   ]
  },
  {
   "cell_type": "code",
   "execution_count": 66,
   "metadata": {},
   "outputs": [
    {
     "name": "stdout",
     "output_type": "stream",
     "text": [
      "[-1.8369702e-16 -1.0000000e+00]\n"
     ]
    }
   ],
   "source": [
    "%%cython\n",
    "cimport numpy as np\n",
    "import numpy as np\n",
    "from libc.math cimport sin as csin,cos as ccos\n",
    "\n",
    "DTYPE = np.float_\n",
    "cdef np.ndarray rot_matrix(double teta_deg):\n",
    "    cdef double teta = np.deg2rad(teta_deg)\n",
    "    cdef np.ndarray T = np.array([[ccos(teta),-csin(teta)],[csin(teta),ccos(teta)]],dtype=DTYPE)\n",
    "    return T\n",
    "\n",
    "print(rot_matrix(270.).dot([1,0]))"
   ]
  },
  {
   "cell_type": "code",
   "execution_count": 106,
   "metadata": {},
   "outputs": [
    {
     "name": "stdout",
     "output_type": "stream",
     "text": [
      "2.0\n",
      "2.0\n",
      "[2. 2.]\n"
     ]
    }
   ],
   "source": [
    "%%cython\n",
    "cimport numpy as np\n",
    "import numpy as np\n",
    "\n",
    "cdef int mom2calc[3]\n",
    "mom2calc[:] = [1, 2, 3]\n",
    "\n",
    "cdef class point:\n",
    "    cdef double _x,_y\n",
    "    def __cinit__(self,double x, double y):\n",
    "        self.update(x,y)\n",
    "    \n",
    "    cdef void update(self,double x, double y):\n",
    "        self._x = x\n",
    "        self._y = y\n",
    "        \n",
    "    @property\n",
    "    def x(self):\n",
    "        return self._x\n",
    "    @property\n",
    "    def y(self):\n",
    "        return self._y\n",
    "        \n",
    "    cdef double[:] vec(self):\n",
    "        cdef double vec[2]\n",
    "        vec[:] = [self._x,self._y]\n",
    "        return vec\n",
    "    \n",
    "cdef point p = point(2,2)\n",
    "print(p.x)\n",
    "print(p.y)\n",
    "print(np.array(p.vec()))"
   ]
  }
 ],
 "metadata": {
  "kernelspec": {
   "display_name": "Python 3",
   "language": "python",
   "name": "python3"
  },
  "language_info": {
   "codemirror_mode": {
    "name": "ipython",
    "version": 3
   },
   "file_extension": ".py",
   "mimetype": "text/x-python",
   "name": "python",
   "nbconvert_exporter": "python",
   "pygments_lexer": "ipython3",
   "version": "3.6.7"
  }
 },
 "nbformat": 4,
 "nbformat_minor": 2
}
