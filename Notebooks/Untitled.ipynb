{
 "cells": [
  {
   "cell_type": "code",
   "execution_count": 53,
   "metadata": {},
   "outputs": [
    {
     "name": "stdout",
     "output_type": "stream",
     "text": [
      "[0.42141369 1.90969819 4.40903368 4.61274204 0.98238738 2.62914799\n",
      " 0.59767469 2.80233877 2.67080624 0.75284339]\n",
      "[[250.91251158 250.40905087]\n",
      " [249.66754839 250.94312031]\n",
      " [249.70127603 249.04566044]\n",
      " [249.90051789 249.00496065]\n",
      " [250.55503824 250.83182483]\n",
      " [249.12845153 250.49030935]\n",
      " [250.82664635 250.56272179]\n",
      " [249.05699678 250.3327836 ]\n",
      " [249.10878814 250.45358729]\n",
      " [250.72974775 250.68371648]]\n",
      "[[ 24.14522563]\n",
      " [109.41764621]\n",
      " [252.61902186]\n",
      " [264.29065109]\n",
      " [ 56.28665098]\n",
      " [150.63908367]\n",
      " [ 34.24423735]\n",
      " [160.56218411]\n",
      " [153.02592533]\n",
      " [ 43.13474901]]\n",
      "[264.29065109]\n"
     ]
    }
   ],
   "source": [
    "import numpy as np\n",
    "n = 10\n",
    "teta = np.random.rand(n)*2*np.pi\n",
    "print(teta)\n",
    "xy = np.array([250,250])\n",
    "zipped = list(zip(np.cos(teta),np.sin(teta)))\n",
    "zipped = np.dstack((np.cos(teta),np.sin(teta)))\n",
    "print(zipped[0]+xy)\n",
    "print(np.degrees(teta).reshape(10,1))\n",
    "print(np.degrees(teta).reshape(10,1)[3])\n"
   ]
  }
 ],
 "metadata": {
  "kernelspec": {
   "display_name": "Python 3",
   "language": "python",
   "name": "python3"
  },
  "language_info": {
   "codemirror_mode": {
    "name": "ipython",
    "version": 3
   },
   "file_extension": ".py",
   "mimetype": "text/x-python",
   "name": "python",
   "nbconvert_exporter": "python",
   "pygments_lexer": "ipython3",
   "version": "3.6.5"
  }
 },
 "nbformat": 4,
 "nbformat_minor": 2
}
