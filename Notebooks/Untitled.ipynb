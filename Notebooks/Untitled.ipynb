{
 "cells": [
  {
   "cell_type": "code",
   "execution_count": 2,
   "metadata": {},
   "outputs": [
    {
     "name": "stdout",
     "output_type": "stream",
     "text": [
      "[2.88415138 5.10448922 2.54670689 4.33792174 4.16066729 1.15973588\n",
      " 2.8408855  0.22412801 5.84197371 2.72218877]\n",
      "[[249.03295539 250.25460698]\n",
      " [250.38213011 249.07589147]\n",
      " [249.17178748 250.56041415]\n",
      " [249.63422326 249.06929738]\n",
      " [249.47584577 249.14837665]\n",
      " [250.39958166 250.9166976 ]\n",
      " [249.04487273 250.2961957 ]\n",
      " [250.97498828 250.22225627]\n",
      " [250.90423493 249.57296466]\n",
      " [249.08666815 250.40721607]]\n",
      "[[165.24970167]\n",
      " [292.46568915]\n",
      " [145.91555631]\n",
      " [248.54460729]\n",
      " [238.38867584]\n",
      " [ 66.44797145]\n",
      " [162.77074909]\n",
      " [ 12.84158933]\n",
      " [334.72043787]\n",
      " [155.9699277 ]]\n",
      "[248.54460729]\n"
     ]
    }
   ],
   "source": [
    "import numpy as np\n",
    "n = 10\n",
    "teta = np.random.rand(n)*2*np.pi\n",
    "print(teta)\n",
    "xy = np.array([250,250])\n",
    "zipped = list(zip(np.cos(teta),np.sin(teta)))\n",
    "zipped = np.dstack((np.cos(teta),np.sin(teta)))\n",
    "print(zipped[0]+xy)\n",
    "print(np.degrees(teta).reshape(10,1))\n",
    "print(np.degrees(teta).reshape(10,1)[3])\n"
   ]
  },
  {
   "cell_type": "code",
   "execution_count": 14,
   "metadata": {},
   "outputs": [
    {
     "name": "stdout",
     "output_type": "stream",
     "text": [
      "-0.0\n"
     ]
    }
   ],
   "source": [
    "vec = [-1,0]\n",
    "teta = np.arctan(vec[1]/vec[0])\n",
    "print(np.degrees(teta))"
   ]
  }
 ],
 "metadata": {
  "kernelspec": {
   "display_name": "Python 3",
   "language": "python",
   "name": "python3"
  },
  "language_info": {
   "codemirror_mode": {
    "name": "ipython",
    "version": 3
   },
   "file_extension": ".py",
   "mimetype": "text/x-python",
   "name": "python",
   "nbconvert_exporter": "python",
   "pygments_lexer": "ipython3",
   "version": "3.6.5"
  }
 },
 "nbformat": 4,
 "nbformat_minor": 2
}
