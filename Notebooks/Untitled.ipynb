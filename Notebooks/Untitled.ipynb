{
 "cells": [
  {
   "cell_type": "code",
   "execution_count": 1,
   "metadata": {},
   "outputs": [
    {
     "name": "stdout",
     "output_type": "stream",
     "text": [
      "[1.21154353 2.41806698 1.82810435 5.45397714 4.02104582 6.01252629\n",
      " 3.05866655 2.66549604 4.43676661 4.75532518]\n",
      "[[250.35157483 250.93615978]\n",
      " [249.25052371 250.66203119]\n",
      " [249.74552187 250.96707853]\n",
      " [250.67545987 249.26260325]\n",
      " [249.36242749 249.22960965]\n",
      " [250.96359491 249.73263348]\n",
      " [249.0034364  250.0828311 ]\n",
      " [249.11120934 250.45831338]\n",
      " [249.72785413 249.03774399]\n",
      " [250.04292301 249.00092162]]\n",
      "[[ 69.41633096]\n",
      " [138.54503268]\n",
      " [104.74266383]\n",
      " [312.48987186]\n",
      " [230.38895489]\n",
      " [344.49238046]\n",
      " [175.24868402]\n",
      " [152.72167335]\n",
      " [254.2080014 ]\n",
      " [272.46006311]]\n",
      "[312.48987186]\n"
     ]
    }
   ],
   "source": [
    "import numpy as np\n",
    "n = 10\n",
    "teta = np.random.rand(n)*2*np.pi\n",
    "print(teta)\n",
    "xy = np.array([250,250])\n",
    "zipped = list(zip(np.cos(teta),np.sin(teta)))\n",
    "zipped = np.dstack((np.cos(teta),np.sin(teta)))\n",
    "print(zipped[0]+xy)\n",
    "print(np.degrees(teta).reshape(10,1))\n",
    "print(np.degrees(teta).reshape(10,1)[3])\n"
   ]
  },
  {
   "cell_type": "code",
   "execution_count": 2,
   "metadata": {},
   "outputs": [
    {
     "name": "stdout",
     "output_type": "stream",
     "text": [
      "-0.0\n"
     ]
    }
   ],
   "source": [
    "vec = [-1,0]\n",
    "teta = np.arctan(vec[1]/vec[0])\n",
    "print(np.degrees(teta))"
   ]
  },
  {
   "cell_type": "code",
   "execution_count": 3,
   "metadata": {},
   "outputs": [
    {
     "name": "stdout",
     "output_type": "stream",
     "text": [
      "[[0.88517884 0.65239614]\n",
      " [0.82827924 0.75733564]\n",
      " [0.65907892 0.14193848]\n",
      " [0.7397207  0.68195543]\n",
      " [0.84751072 0.44924789]\n",
      " [0.64958194 0.08037477]\n",
      " [0.60998641 0.84020105]\n",
      " [0.47207693 0.16144822]\n",
      " [0.08277044 0.59507353]\n",
      " [0.41689285 0.25018297]]\n"
     ]
    }
   ],
   "source": [
    "print(np.random.rand(10,2))"
   ]
  },
  {
   "cell_type": "code",
   "execution_count": null,
   "metadata": {},
   "outputs": [],
   "source": []
  }
 ],
 "metadata": {
  "kernelspec": {
   "display_name": "Python 3",
   "language": "python",
   "name": "python3"
  },
  "language_info": {
   "codemirror_mode": {
    "name": "ipython",
    "version": 3
   },
   "file_extension": ".py",
   "mimetype": "text/x-python",
   "name": "python",
   "nbconvert_exporter": "python",
   "pygments_lexer": "ipython3",
   "version": "3.6.7"
  }
 },
 "nbformat": 4,
 "nbformat_minor": 2
}
