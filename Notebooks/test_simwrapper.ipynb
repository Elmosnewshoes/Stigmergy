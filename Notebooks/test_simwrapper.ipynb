{
 "cells": [
  {
   "cell_type": "code",
   "execution_count": 1,
   "metadata": {},
   "outputs": [
    {
     "name": "stdout",
     "output_type": "stream",
     "text": [
      "\n",
      "/usr/lib/python36.zip\n",
      "/usr/lib/python3.6\n",
      "/usr/lib/python3.6/lib-dynload\n",
      "/home/bram/PythonEnvs/Ants/lib/python3.6/site-packages\n",
      "/home/bram/PythonEnvs/Ants/lib/python3.6/site-packages/IPython/extensions\n",
      "/home/bram/.ipython\n",
      "/home/bram/ANTS\n",
      "/home/bram/ANTS/entropy\n"
     ]
    }
   ],
   "source": [
    "import sys\n",
    "sys.path.append('/home/bram/ANTS')\n",
    "sys.path.append('/home/bram/ANTS/entropy')\n",
    "for p in sys.path:\n",
    "    print(p)"
   ]
  },
  {
   "cell_type": "code",
   "execution_count": 2,
   "metadata": {},
   "outputs": [
    {
     "name": "stdout",
     "output_type": "stream",
     "text": [
      "{'n_agents': 80, 'dt': 0.5, 'steps': 10, 'deploy_style': 'nest_radian', 'deploy_timing': 'gamma_dist', 'deploy_timing_args': {'k': 4.0, 'teta': 2.0}, 'evap_rate': -1.0}\n",
      "{'size': [1000, 1000], 'pitch': 0.5, 'nest_loc': [250, 500], 'nest_rad': 50, 'food_loc': [750, 500], 'food_rad': 50, 'target_pheromone': 1000000.0}\n"
     ]
    }
   ],
   "source": [
    "from cythonic.plugins.dummy_dicts import ant_dict, queen_dict, domain_dict, gauss_dict, sim_dict, deposit_dict, sens_dict\n",
    "print(sim_dict)\n",
    "print(domain_dict)\n",
    "sim_dict['steps'] = 1000\n",
    "domain_dict['pitch']=2"
   ]
  },
  {
   "cell_type": "code",
   "execution_count": 3,
   "metadata": {},
   "outputs": [
    {
     "name": "stdout",
     "output_type": "stream",
     "text": [
      "It took a whopping 1111.4249229431152 msec\n",
      "{'sim_id': 67, 'foodcount': 0, 'nestcount': 0, 'entropy_vec': 'NULL', 'start_entropy': 'NULL', 'end_entropy': 'NULL'}\n"
     ]
    }
   ],
   "source": [
    "from cythonic.sim_wrapper import recorder\n",
    "# from cythonic.plugins.dummy_dicts import ant_dict, queen_dict, domain_dict, gauss_dict, sim_dict, deposit_dict, sens_dict\n",
    "\n",
    "sim_recorder = recorder(queen_args = queen_dict, domain_args = domain_dict, sim_args = sim_dict)\n",
    "result = sim_recorder.time_full_sim(record = True, deposit_style = 'constant', deposit_dict = deposit_dict,gauss_dict = gauss_dict, upload_interval = 500)\n",
    "print(result)"
   ]
  }
 ],
 "metadata": {
  "kernelspec": {
   "display_name": "Python 3",
   "language": "python",
   "name": "python3"
  },
  "language_info": {
   "codemirror_mode": {
    "name": "ipython",
    "version": 3
   },
   "file_extension": ".py",
   "mimetype": "text/x-python",
   "name": "python",
   "nbconvert_exporter": "python",
   "pygments_lexer": "ipython3",
   "version": "3.6.7"
  }
 },
 "nbformat": 4,
 "nbformat_minor": 2
}
