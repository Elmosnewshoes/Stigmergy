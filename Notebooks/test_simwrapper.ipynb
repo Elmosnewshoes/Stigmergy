{
 "cells": [
  {
   "cell_type": "code",
   "execution_count": 1,
   "metadata": {},
   "outputs": [
    {
     "name": "stdout",
     "output_type": "stream",
     "text": [
      "\n",
      "/usr/lib/python36.zip\n",
      "/usr/lib/python3.6\n",
      "/usr/lib/python3.6/lib-dynload\n",
      "/home/bram/PythonEnvs/Ants/lib/python3.6/site-packages\n",
      "/home/bram/PythonEnvs/Ants/lib/python3.6/site-packages/IPython/extensions\n",
      "/home/bram/.ipython\n",
      "/home/bram/ANTS\n",
      "/home/bram/ANTS/entropy\n"
     ]
    }
   ],
   "source": [
    "import sys\n",
    "sys.path.append('/home/bram/ANTS')\n",
    "sys.path.append('/home/bram/ANTS/entropy')\n",
    "for p in sys.path:\n",
    "    print(p)"
   ]
  },
  {
   "cell_type": "code",
   "execution_count": 2,
   "metadata": {},
   "outputs": [
    {
     "name": "stdout",
     "output_type": "stream",
     "text": [
      "{'n_agents': 80, 'dt': 0.3, 'steps': 10, 'deploy_style': 'nest_radian', 'deploy_timing': 'gamma_dist', 'deploy_timing_args': {'k': 10.0, 'teta': 2.0}, 'evap_rate': -1.0}\n",
      "{'size': [4000, 2000], 'pitch': 5, 'nest_loc': [1000, 1000], 'nest_rad': 150, 'food_loc': [3500, 1000], 'food_rad': 150, 'target_pheromone': 250000.0}\n"
     ]
    }
   ],
   "source": [
    "from cythonic.plugins.dummy_dicts import ant_dict, queen_dict, domain_dict, gauss_dict, sim_dict, deposit_dict, sens_dict\n",
    "print(sim_dict)\n",
    "print(domain_dict)\n",
    "sim_dict['steps'] = 1000\n",
    "domain_dict['pitch']=2"
   ]
  },
  {
   "cell_type": "code",
   "execution_count": 3,
   "metadata": {},
   "outputs": [
    {
     "name": "stdout",
     "output_type": "stream",
     "text": [
      " \n",
      " Simulation with ID: 118\n",
      " \n",
      " It took a whopping 7366.270542144775 msec \n",
      "\n",
      "{'sim_id': 118, 'foodcount': 2, 'nestcount': 1, 'entropy_vec': [20.934, 20.934, 20.934, 20.934, 20.934, 20.934, 20.934, 20.934, 20.934, 20.934, 20.934, 20.934, 20.934, 20.934, 20.934, 20.934, 20.934, 20.934, 20.934, 20.934, 20.934, 20.934, 20.934, 20.934, 20.934, 20.934, 20.934, 20.934, 20.934, 20.934, 20.934, 20.934, 20.934, 20.934, 20.934, 20.934, 20.934, 20.934, 20.934, 20.934, 20.934, 20.934, 20.934, 20.934, 20.934, 20.934, 20.934, 20.934, 20.934, 20.934, 20.934, 20.934, 20.934, 20.934, 20.934, 20.934, 20.934, 20.934, 20.934, 20.934, 20.934, 20.934, 20.934, 20.934, 20.934, 20.934, 20.934, 20.934, 20.934, 20.934, 20.934, 20.934, 20.934, 20.934, 20.934, 20.934, 20.934, 20.934, 20.934, 20.934, 20.934, 20.934, 20.934, 20.934, 20.934, 20.934, 20.934, 20.934, 20.934, 20.934, 20.934, 20.934, 20.934, 20.934, 20.934, 20.934, 20.934, 20.934, 20.934, 20.934, 20.934], 'start_entropy': 20.934, 'end_entropy': 20.934, 'scorecard': [0, 0, 0, 0, 0, 0, 0, 0, 0, 0, 0, 0, 0, 0, 0, 0, 0, 1, 1, 1, 1, 1, 1, 1, 1, 1, 1, 1, 1, 1, 1, 1, 1, 1, 1, 1, 1, 1, 1, 1, 1, 1, 1, 1, 1, 1, 1, 1, 1, 1, 1, 1, 1, 1, 1, 1, 1, 1, 1, 1, 1, 1, 1, 1, 1, 1, 1, 1, 1, 1, 1, 1, 1, 1, 1, 1, 1, 1, 1, 1, 1, 1, 1, 1, 1, 1, 1, 1, 1, 1, 1, 1, 1, 1, 1, 1, 1, 1, 1, 1, 1], 'step_vec': [0, 10, 20, 30, 40, 50, 60, 70, 80, 90, 100, 110, 120, 130, 140, 150, 160, 170, 180, 190, 200, 210, 220, 230, 240, 250, 260, 270, 280, 290, 300, 310, 320, 330, 340, 350, 360, 370, 380, 390, 400, 410, 420, 430, 440, 450, 460, 470, 480, 490, 500, 510, 520, 530, 540, 550, 560, 570, 580, 590, 600, 610, 620, 630, 640, 650, 660, 670, 680, 690, 700, 710, 720, 730, 740, 750, 760, 770, 780, 790, 800, 810, 820, 830, 840, 850, 860, 870, 880, 890, 900, 910, 920, 930, 940, 950, 960, 970, 980, 990, 1000]}\n"
     ]
    }
   ],
   "source": [
    "from cythonic.sim_wrapper import recorder\n",
    "# from cythonic.plugins.dummy_dicts import ant_dict, queen_dict, domain_dict, gauss_dict, sim_dict, deposit_dict, sens_dict\n",
    "\n",
    "sim_recorder = recorder(queen_args = queen_dict, domain_args = domain_dict, sim_args = sim_dict)\n",
    "result = sim_recorder.time_full_sim(record = True, deposit_style = 'constant', deposit_dict = deposit_dict,gauss_dict = gauss_dict, upload_interval = 500)\n",
    "print(result)"
   ]
  },
  {
   "cell_type": "code",
   "execution_count": 15,
   "metadata": {},
   "outputs": [
    {
     "name": "stdout",
     "output_type": "stream",
     "text": [
      "9.408999999999999\n",
      "0.9924141172814958\n",
      "0.9924141172814958\n",
      "0.9924141172814958\n",
      "0.9924141172814958\n",
      "0.9924141172814958\n",
      "0.9924141172814958\n",
      "0.9924141172814958\n",
      "0.9924141172814958\n",
      "9.408999999999995\n"
     ]
    }
   ],
   "source": [
    "start = 10\n",
    "evap = 0.97\n",
    "atonce = start * evap**2\n",
    "print(atonce)\n",
    "import numpy as np\n",
    "\n",
    "dt = 0.25\n",
    "x = start\n",
    "for i in range(int(2*np.ceil(1/dt))):\n",
    "    print(evap**(dt))\n",
    "    x*=evap**(dt)\n",
    "print(x)"
   ]
  }
 ],
 "metadata": {
  "kernelspec": {
   "display_name": "Python 3",
   "language": "python",
   "name": "python3"
  },
  "language_info": {
   "codemirror_mode": {
    "name": "ipython",
    "version": 3
   },
   "file_extension": ".py",
   "mimetype": "text/x-python",
   "name": "python",
   "nbconvert_exporter": "python",
   "pygments_lexer": "ipython3",
   "version": "3.6.7"
  }
 },
 "nbformat": 4,
 "nbformat_minor": 2
}
